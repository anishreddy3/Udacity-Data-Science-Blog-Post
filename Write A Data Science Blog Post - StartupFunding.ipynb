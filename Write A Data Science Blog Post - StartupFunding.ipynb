{
 "cells": [
  {
   "cell_type": "code",
   "execution_count": 301,
   "metadata": {},
   "outputs": [],
   "source": [
    "# import all necessary libraries\n",
    "import numpy as np\n",
    "import pandas as pd\n",
    "import seaborn as sns\n",
    "import matplotlib.pyplot as plt\n",
    "from sklearn.preprocessing import LabelEncoder\n",
    "%matplotlib inline"
   ]
  },
  {
   "cell_type": "markdown",
   "metadata": {},
   "source": [
    "## Business Understanding\n",
    "\n",
    "As I am very passionate about startups that bring new technology to solve problems much more effectively. I decided to explore the Indian Startup funding dataset from Kaggle to better understand the startup environment. The task or questions I will target as below:\n",
    "\n",
    "Question 1 : Do Cities have a huge influence on funding, list the top 20 cities with most number of startups\n",
    "\n",
    "Question 2 :  Which Industries are more preferred by investors, list the top 15 industries with more startups\n",
    "\n",
    "Question 3 : Who are the most prominent investors in Indian Startup Environment, list the top 15 investors in India\n",
    "\n",
    "Question 4 : Which Industries got the most fudning, list the top 15 industries that got the most funding\n",
    "\n",
    "Question 5 : Correlation between Date ddmmyyyy, Startup Name, Industry Vertical, SubVertical, City Location, Investors Name, Investment Type, Amount in USD\n",
    "\n",
    "Understanding these questions will provide valuable insights to investors and entrepreneurs so that they can take the right decision."
   ]
  },
  {
   "cell_type": "markdown",
   "metadata": {},
   "source": [
    "## Data Understanding\n",
    "\n",
    "This project uses the funding information of Indian Startups from January 2015 to August 2017. For this project I will use the startup_funding.csv file which contains all the information of startups in India.\n",
    "\n",
    "Below are the steps to look and understand the data."
   ]
  },
  {
   "cell_type": "code",
   "execution_count": 302,
   "metadata": {},
   "outputs": [
    {
     "data": {
      "text/html": [
       "<div>\n",
       "<style scoped>\n",
       "    .dataframe tbody tr th:only-of-type {\n",
       "        vertical-align: middle;\n",
       "    }\n",
       "\n",
       "    .dataframe tbody tr th {\n",
       "        vertical-align: top;\n",
       "    }\n",
       "\n",
       "    .dataframe thead th {\n",
       "        text-align: right;\n",
       "    }\n",
       "</style>\n",
       "<table border=\"1\" class=\"dataframe\">\n",
       "  <thead>\n",
       "    <tr style=\"text-align: right;\">\n",
       "      <th></th>\n",
       "      <th>Sr No</th>\n",
       "      <th>Date ddmmyyyy</th>\n",
       "      <th>Startup Name</th>\n",
       "      <th>Industry Vertical</th>\n",
       "      <th>SubVertical</th>\n",
       "      <th>City  Location</th>\n",
       "      <th>Investors Name</th>\n",
       "      <th>Investment Type</th>\n",
       "      <th>Amount in USD</th>\n",
       "      <th>Remarks</th>\n",
       "    </tr>\n",
       "  </thead>\n",
       "  <tbody>\n",
       "    <tr>\n",
       "      <th>0</th>\n",
       "      <td>0</td>\n",
       "      <td>5/9/2019</td>\n",
       "      <td>FPL Technologies</td>\n",
       "      <td>FinTech</td>\n",
       "      <td>Financial Services</td>\n",
       "      <td>Pune</td>\n",
       "      <td>Matrix Partners India, Sequoia India</td>\n",
       "      <td>Maiden Round</td>\n",
       "      <td>4,500,000</td>\n",
       "      <td>NaN</td>\n",
       "    </tr>\n",
       "    <tr>\n",
       "      <th>1</th>\n",
       "      <td>1</td>\n",
       "      <td>4/9/2019</td>\n",
       "      <td>Cashflo</td>\n",
       "      <td>FinTech</td>\n",
       "      <td>Invoice discounting platform and SME lending m...</td>\n",
       "      <td>Mumbai</td>\n",
       "      <td>SAIF Partners</td>\n",
       "      <td>Series A</td>\n",
       "      <td>3,300,000</td>\n",
       "      <td>NaN</td>\n",
       "    </tr>\n",
       "    <tr>\n",
       "      <th>2</th>\n",
       "      <td>2</td>\n",
       "      <td>4/9/2019</td>\n",
       "      <td>Digital F5</td>\n",
       "      <td>Advertising, Marketing</td>\n",
       "      <td>Digital marketing firm</td>\n",
       "      <td>Mumbai</td>\n",
       "      <td>TIW Private Equity</td>\n",
       "      <td>Private Equity Round</td>\n",
       "      <td>6,000,000</td>\n",
       "      <td>NaN</td>\n",
       "    </tr>\n",
       "    <tr>\n",
       "      <th>3</th>\n",
       "      <td>3</td>\n",
       "      <td>4/9/2019</td>\n",
       "      <td>3rdFlix</td>\n",
       "      <td>SaaS</td>\n",
       "      <td>Education Technology</td>\n",
       "      <td>Hyderabad</td>\n",
       "      <td>Exfinity Venture Partners</td>\n",
       "      <td>pre-series A</td>\n",
       "      <td>5,000,000</td>\n",
       "      <td>NaN</td>\n",
       "    </tr>\n",
       "    <tr>\n",
       "      <th>4</th>\n",
       "      <td>4</td>\n",
       "      <td>4/9/2019</td>\n",
       "      <td>75F</td>\n",
       "      <td>IoT</td>\n",
       "      <td>Building automation system</td>\n",
       "      <td>Burnsville</td>\n",
       "      <td>Breakthrough Energy Ventures</td>\n",
       "      <td>Series A</td>\n",
       "      <td>18,000,000</td>\n",
       "      <td>NaN</td>\n",
       "    </tr>\n",
       "  </tbody>\n",
       "</table>\n",
       "</div>"
      ],
      "text/plain": [
       "   Sr No Date ddmmyyyy      Startup Name       Industry Vertical  \\\n",
       "0      0      5/9/2019  FPL Technologies                 FinTech   \n",
       "1      1      4/9/2019           Cashflo                 FinTech   \n",
       "2      2      4/9/2019        Digital F5  Advertising, Marketing   \n",
       "3      3      4/9/2019           3rdFlix                    SaaS   \n",
       "4      4      4/9/2019               75F                     IoT   \n",
       "\n",
       "                                         SubVertical City  Location  \\\n",
       "0                                 Financial Services           Pune   \n",
       "1  Invoice discounting platform and SME lending m...         Mumbai   \n",
       "2                             Digital marketing firm         Mumbai   \n",
       "3                               Education Technology      Hyderabad   \n",
       "4                         Building automation system     Burnsville   \n",
       "\n",
       "                         Investors Name       Investment Type Amount in USD  \\\n",
       "0  Matrix Partners India, Sequoia India          Maiden Round     4,500,000   \n",
       "1                         SAIF Partners              Series A     3,300,000   \n",
       "2                    TIW Private Equity  Private Equity Round     6,000,000   \n",
       "3             Exfinity Venture Partners          pre-series A     5,000,000   \n",
       "4          Breakthrough Energy Ventures              Series A    18,000,000   \n",
       "\n",
       "  Remarks  \n",
       "0     NaN  \n",
       "1     NaN  \n",
       "2     NaN  \n",
       "3     NaN  \n",
       "4     NaN  "
      ]
     },
     "execution_count": 302,
     "metadata": {},
     "output_type": "execute_result"
    }
   ],
   "source": [
    "# Loading and understanding the dataset\n",
    "startup_funding = pd.read_csv('./startup_funding.csv')\n",
    "startup_funding.head()"
   ]
  },
  {
   "cell_type": "code",
   "execution_count": 303,
   "metadata": {},
   "outputs": [
    {
     "data": {
      "text/html": [
       "<div>\n",
       "<style scoped>\n",
       "    .dataframe tbody tr th:only-of-type {\n",
       "        vertical-align: middle;\n",
       "    }\n",
       "\n",
       "    .dataframe tbody tr th {\n",
       "        vertical-align: top;\n",
       "    }\n",
       "\n",
       "    .dataframe thead th {\n",
       "        text-align: right;\n",
       "    }\n",
       "</style>\n",
       "<table border=\"1\" class=\"dataframe\">\n",
       "  <thead>\n",
       "    <tr style=\"text-align: right;\">\n",
       "      <th></th>\n",
       "      <th>Sr No</th>\n",
       "    </tr>\n",
       "  </thead>\n",
       "  <tbody>\n",
       "    <tr>\n",
       "      <th>count</th>\n",
       "      <td>3009.000000</td>\n",
       "    </tr>\n",
       "    <tr>\n",
       "      <th>mean</th>\n",
       "      <td>1526.737454</td>\n",
       "    </tr>\n",
       "    <tr>\n",
       "      <th>std</th>\n",
       "      <td>884.509003</td>\n",
       "    </tr>\n",
       "    <tr>\n",
       "      <th>min</th>\n",
       "      <td>0.000000</td>\n",
       "    </tr>\n",
       "    <tr>\n",
       "      <th>25%</th>\n",
       "      <td>756.000000</td>\n",
       "    </tr>\n",
       "    <tr>\n",
       "      <th>50%</th>\n",
       "      <td>1530.000000</td>\n",
       "    </tr>\n",
       "    <tr>\n",
       "      <th>75%</th>\n",
       "      <td>2292.000000</td>\n",
       "    </tr>\n",
       "    <tr>\n",
       "      <th>max</th>\n",
       "      <td>3057.000000</td>\n",
       "    </tr>\n",
       "  </tbody>\n",
       "</table>\n",
       "</div>"
      ],
      "text/plain": [
       "             Sr No\n",
       "count  3009.000000\n",
       "mean   1526.737454\n",
       "std     884.509003\n",
       "min       0.000000\n",
       "25%     756.000000\n",
       "50%    1530.000000\n",
       "75%    2292.000000\n",
       "max    3057.000000"
      ]
     },
     "execution_count": 303,
     "metadata": {},
     "output_type": "execute_result"
    }
   ],
   "source": [
    "# Get the basic information about the project\n",
    "startup_funding.describe()"
   ]
  },
  {
   "cell_type": "code",
   "execution_count": 304,
   "metadata": {},
   "outputs": [
    {
     "name": "stdout",
     "output_type": "stream",
     "text": [
      "<class 'pandas.core.frame.DataFrame'>\n",
      "RangeIndex: 3009 entries, 0 to 3008\n",
      "Data columns (total 10 columns):\n",
      "Sr No                3009 non-null int64\n",
      "Date ddmmyyyy        3009 non-null object\n",
      "Startup Name         3009 non-null object\n",
      "Industry Vertical    2838 non-null object\n",
      "SubVertical          2073 non-null object\n",
      "City  Location       2829 non-null object\n",
      "Investors Name       2986 non-null object\n",
      "Investment Type      3006 non-null object\n",
      "Amount in USD        2045 non-null object\n",
      "Remarks              419 non-null object\n",
      "dtypes: int64(1), object(9)\n",
      "memory usage: 235.2+ KB\n"
     ]
    }
   ],
   "source": [
    "# Get the data types for different columns\n",
    "startup_funding.info()"
   ]
  },
  {
   "cell_type": "code",
   "execution_count": 305,
   "metadata": {},
   "outputs": [
    {
     "name": "stdout",
     "output_type": "stream",
     "text": [
      "Number of rows : 3009\n",
      "Number of columns : 10\n"
     ]
    }
   ],
   "source": [
    "# Get the number of columns and rows\n",
    "no_rows = startup_funding.shape[0]\n",
    "no_columns = startup_funding.shape[1]\n",
    "print(\"Number of rows : {}\".format(no_rows))\n",
    "print(\"Number of columns : {}\".format(no_columns))"
   ]
  },
  {
   "cell_type": "code",
   "execution_count": 306,
   "metadata": {},
   "outputs": [
    {
     "data": {
      "text/plain": [
       "Index(['Sr No', 'Date ddmmyyyy', 'Startup Name', 'Industry Vertical',\n",
       "       'SubVertical', 'City  Location', 'Investors Name', 'Investment Type',\n",
       "       'Amount in USD', 'Remarks'],\n",
       "      dtype='object')"
      ]
     },
     "execution_count": 306,
     "metadata": {},
     "output_type": "execute_result"
    }
   ],
   "source": [
    "# Display all column names in the dataset\n",
    "startup_funding.columns"
   ]
  },
  {
   "cell_type": "markdown",
   "metadata": {},
   "source": [
    "### Data Preparation:\n",
    "\n",
    "Data Preprocessing Steps that need to be done before analyzing data:\n",
    "\n",
    "i. Checking columns with missing values and analyze impact <br>\n",
    "ii. Devise a strategy to deal with missing values <br>\n",
    "iii. If more than 75% values are missing then drop that column, else numerical variables can be imputed by mean and categorical variables by mode <br>\n",
    "iii. One-hot coding for all categorical variables <br>"
   ]
  },
  {
   "cell_type": "code",
   "execution_count": 307,
   "metadata": {},
   "outputs": [
    {
     "data": {
      "text/plain": [
       "Sr No                   0\n",
       "Date ddmmyyyy           0\n",
       "Startup Name            0\n",
       "Industry Vertical     171\n",
       "SubVertical           936\n",
       "City  Location        180\n",
       "Investors Name         23\n",
       "Investment Type         3\n",
       "Amount in USD         964\n",
       "Remarks              2590\n",
       "dtype: int64"
      ]
     },
     "execution_count": 307,
     "metadata": {},
     "output_type": "execute_result"
    }
   ],
   "source": [
    "startup_funding.isnull().sum()"
   ]
  },
  {
   "cell_type": "code",
   "execution_count": 308,
   "metadata": {},
   "outputs": [
    {
     "name": "stdout",
     "output_type": "stream",
     "text": [
      "Column with more than 75% values missing {'Remarks'}\n",
      "Column {'Remarks'} removed\n"
     ]
    }
   ],
   "source": [
    "# Drop columns that have maximum missing values\n",
    "startup_new = set(startup_funding.columns[startup_funding.isnull().mean() > 0.75])\n",
    "print(\"Column with more than 75% values missing\", startup_new)\n",
    "\n",
    "startup_funding = startup_funding.drop('Remarks', axis = 1, inplace = False)\n",
    "\n",
    "print(\"Column {} removed\".format(startup_new))"
   ]
  },
  {
   "cell_type": "code",
   "execution_count": 309,
   "metadata": {},
   "outputs": [],
   "source": [
    "\n",
    "\n",
    "\n",
    "# Standarize all city names\n",
    "startup_ab = startup_funding.replace([\"Bengaluru\", \"Delhi\", \"Kolkatta\", \"Ahemadabad\"], [\"Bangalore\", \"New Delhi\", \"Kolkata\", \"Ahmedabad\"])\n",
    "\n",
    "# Standarize all Industry names\n",
    "startup_bc  = startup_ab.replace([\"eCommerce\", \"E-Commerce\", \"ECommerce\", \"Ecommerce\", \"Fin-Tech\", \"Food and Beverage\"], [\"E-commerce\", \"E-commerce\", \"E-commerce\", \"E-commerce\",  \"FinTech\", \"Food & Beverage\" ])\n",
    "\n",
    "# Standardize amount\n",
    "startup_lat = startup_bc.replace([\"undisclosed\", \"Undisclosed\"],[np.nan,np.nan])\n",
    "\n",
    "startup_lat['Amount in USD'] = startup_lat['Amount in USD'].str.replace(',','')\n",
    "startup_lat['Amount in USD'] = startup_lat['Amount in USD'].astype(float)\n",
    "\n",
    "# Standardize Investors names\n",
    "startup_lat = startup_lat.replace([\"SoftBank Group\", \"SoftBank Group Corp\", \"Undisclosed investors\"], [\"Softbank\", \"Softbank\", \"Undisclosed Investors\"])\n",
    "\n",
    "\n",
    "startup_lat.head(30)"
   ]
  },
  {
   "cell_type": "code",
   "execution_count": 310,
   "metadata": {
    "scrolled": true
   },
   "outputs": [
    {
     "name": "stdout",
     "output_type": "stream",
     "text": [
      "<class 'pandas.core.frame.DataFrame'>\n",
      "RangeIndex: 3009 entries, 0 to 3008\n",
      "Data columns (total 9 columns):\n",
      "Sr No                3009 non-null int64\n",
      "Date ddmmyyyy        3009 non-null object\n",
      "Startup Name         3009 non-null object\n",
      "Industry Vertical    2838 non-null object\n",
      "SubVertical          2073 non-null object\n",
      "City  Location       2829 non-null object\n",
      "Investors Name       2975 non-null object\n",
      "Investment Type      3006 non-null object\n",
      "Amount in USD        2040 non-null float64\n",
      "dtypes: float64(1), int64(1), object(7)\n",
      "memory usage: 211.6+ KB\n"
     ]
    }
   ],
   "source": [
    "startup_lat.info()"
   ]
  },
  {
   "cell_type": "code",
   "execution_count": 311,
   "metadata": {},
   "outputs": [],
   "source": [
    "# Imputing all other missing values\n",
    "\n",
    "# Function to impute a column with its mean\n",
    "fill_mean = lambda col: col.fillna(col.mean())\n",
    "\n",
    "# Impute numerical variables with its mean\n",
    "startup_lat[['Amount in USD']] = startup_lat[['Amount in USD']].apply(fill_mean, axis = 0)\n",
    "\n",
    "# Function to impute a column with its mode\n",
    "fill_mode = lambda col: col.fillna(col.mode()[0])\n",
    "\n",
    "# Impute other categorical variables with mode\n",
    "startup_lat[[\"Industry Vertical\", \"SubVertical\", \"City  Location\", \"Investors Name\", \"Investment Type\"]] = startup_lat[[\"Industry Vertical\", \"SubVertical\", \"City  Location\", \"Investors Name\", \"Investment Type\"]].apply(fill_mode, axis = 0)"
   ]
  },
  {
   "cell_type": "code",
   "execution_count": 312,
   "metadata": {},
   "outputs": [
    {
     "data": {
      "text/html": [
       "<div>\n",
       "<style scoped>\n",
       "    .dataframe tbody tr th:only-of-type {\n",
       "        vertical-align: middle;\n",
       "    }\n",
       "\n",
       "    .dataframe tbody tr th {\n",
       "        vertical-align: top;\n",
       "    }\n",
       "\n",
       "    .dataframe thead th {\n",
       "        text-align: right;\n",
       "    }\n",
       "</style>\n",
       "<table border=\"1\" class=\"dataframe\">\n",
       "  <thead>\n",
       "    <tr style=\"text-align: right;\">\n",
       "      <th></th>\n",
       "      <th>Sr No</th>\n",
       "      <th>Date ddmmyyyy</th>\n",
       "      <th>Startup Name</th>\n",
       "      <th>Industry Vertical</th>\n",
       "      <th>SubVertical</th>\n",
       "      <th>City  Location</th>\n",
       "      <th>Investors Name</th>\n",
       "      <th>Investment Type</th>\n",
       "      <th>Amount in USD</th>\n",
       "    </tr>\n",
       "  </thead>\n",
       "  <tbody>\n",
       "    <tr>\n",
       "      <th>0</th>\n",
       "      <td>0</td>\n",
       "      <td>5/9/2019</td>\n",
       "      <td>FPL Technologies</td>\n",
       "      <td>FinTech</td>\n",
       "      <td>Financial Services</td>\n",
       "      <td>Pune</td>\n",
       "      <td>Matrix Partners India, Sequoia India</td>\n",
       "      <td>Maiden Round</td>\n",
       "      <td>4500000.0</td>\n",
       "    </tr>\n",
       "    <tr>\n",
       "      <th>1</th>\n",
       "      <td>1</td>\n",
       "      <td>4/9/2019</td>\n",
       "      <td>Cashflo</td>\n",
       "      <td>FinTech</td>\n",
       "      <td>Invoice discounting platform and SME lending m...</td>\n",
       "      <td>Mumbai</td>\n",
       "      <td>SAIF Partners</td>\n",
       "      <td>Series A</td>\n",
       "      <td>3300000.0</td>\n",
       "    </tr>\n",
       "    <tr>\n",
       "      <th>2</th>\n",
       "      <td>2</td>\n",
       "      <td>4/9/2019</td>\n",
       "      <td>Digital F5</td>\n",
       "      <td>Advertising, Marketing</td>\n",
       "      <td>Digital marketing firm</td>\n",
       "      <td>Mumbai</td>\n",
       "      <td>TIW Private Equity</td>\n",
       "      <td>Private Equity Round</td>\n",
       "      <td>6000000.0</td>\n",
       "    </tr>\n",
       "    <tr>\n",
       "      <th>3</th>\n",
       "      <td>3</td>\n",
       "      <td>4/9/2019</td>\n",
       "      <td>3rdFlix</td>\n",
       "      <td>SaaS</td>\n",
       "      <td>Education Technology</td>\n",
       "      <td>Hyderabad</td>\n",
       "      <td>Exfinity Venture Partners</td>\n",
       "      <td>pre-series A</td>\n",
       "      <td>5000000.0</td>\n",
       "    </tr>\n",
       "    <tr>\n",
       "      <th>4</th>\n",
       "      <td>4</td>\n",
       "      <td>4/9/2019</td>\n",
       "      <td>75F</td>\n",
       "      <td>IoT</td>\n",
       "      <td>Building automation system</td>\n",
       "      <td>Burnsville</td>\n",
       "      <td>Breakthrough Energy Ventures</td>\n",
       "      <td>Series A</td>\n",
       "      <td>18000000.0</td>\n",
       "    </tr>\n",
       "  </tbody>\n",
       "</table>\n",
       "</div>"
      ],
      "text/plain": [
       "   Sr No Date ddmmyyyy      Startup Name       Industry Vertical  \\\n",
       "0      0      5/9/2019  FPL Technologies                 FinTech   \n",
       "1      1      4/9/2019           Cashflo                 FinTech   \n",
       "2      2      4/9/2019        Digital F5  Advertising, Marketing   \n",
       "3      3      4/9/2019           3rdFlix                    SaaS   \n",
       "4      4      4/9/2019               75F                     IoT   \n",
       "\n",
       "                                         SubVertical City  Location  \\\n",
       "0                                 Financial Services           Pune   \n",
       "1  Invoice discounting platform and SME lending m...         Mumbai   \n",
       "2                             Digital marketing firm         Mumbai   \n",
       "3                               Education Technology      Hyderabad   \n",
       "4                         Building automation system     Burnsville   \n",
       "\n",
       "                         Investors Name       Investment Type  Amount in USD  \n",
       "0  Matrix Partners India, Sequoia India          Maiden Round      4500000.0  \n",
       "1                         SAIF Partners              Series A      3300000.0  \n",
       "2                    TIW Private Equity  Private Equity Round      6000000.0  \n",
       "3             Exfinity Venture Partners          pre-series A      5000000.0  \n",
       "4          Breakthrough Energy Ventures              Series A     18000000.0  "
      ]
     },
     "execution_count": 312,
     "metadata": {},
     "output_type": "execute_result"
    }
   ],
   "source": [
    "startup_lat.head()"
   ]
  },
  {
   "cell_type": "code",
   "execution_count": 313,
   "metadata": {},
   "outputs": [],
   "source": [
    "# One hot encoding for all categorical variables\n",
    "\n",
    "le = LabelEncoder()\n",
    "startup_lat['Industry_Vertical_OHE'] = le.fit_transform(startup_lat['Industry Vertical'].astype(str))\n",
    "startup_lat['SubVertical_OHE'] = le.fit_transform(startup_lat['SubVertical'].astype(str))\n",
    "startup_lat['City_Location_OHE'] = le.fit_transform(startup_lat['City  Location'].astype(str))\n",
    "startup_lat['Investors_Name_OHE'] = le.fit_transform(startup_lat['Investors Name'].astype(str))\n",
    "startup_lat['Investment_Type_OHE'] = le.fit_transform(startup_lat['Investment Type'].astype(str))\n",
    "startup_lat['Date_ddmmyyyy_OHE'] = le.fit_transform(startup_lat['Date ddmmyyyy'].astype(str))\n",
    "startup_lat['Startup_Name_OHE'] = le.fit_transform(startup_lat['Startup Name'].astype(str))\n",
    "startup_lat['Investment_Type_OHE'] = le.fit_transform(startup_lat['Investment Type'].astype(str))\n",
    "\n"
   ]
  },
  {
   "cell_type": "code",
   "execution_count": 314,
   "metadata": {},
   "outputs": [
    {
     "data": {
      "text/html": [
       "<div>\n",
       "<style scoped>\n",
       "    .dataframe tbody tr th:only-of-type {\n",
       "        vertical-align: middle;\n",
       "    }\n",
       "\n",
       "    .dataframe tbody tr th {\n",
       "        vertical-align: top;\n",
       "    }\n",
       "\n",
       "    .dataframe thead th {\n",
       "        text-align: right;\n",
       "    }\n",
       "</style>\n",
       "<table border=\"1\" class=\"dataframe\">\n",
       "  <thead>\n",
       "    <tr style=\"text-align: right;\">\n",
       "      <th></th>\n",
       "      <th>Sr No</th>\n",
       "      <th>Date ddmmyyyy</th>\n",
       "      <th>Startup Name</th>\n",
       "      <th>Industry Vertical</th>\n",
       "      <th>SubVertical</th>\n",
       "      <th>City  Location</th>\n",
       "      <th>Investors Name</th>\n",
       "      <th>Investment Type</th>\n",
       "      <th>Amount in USD</th>\n",
       "      <th>Industry_Vertical_OHE</th>\n",
       "      <th>SubVertical_OHE</th>\n",
       "      <th>City_Location_OHE</th>\n",
       "      <th>Investors_Name_OHE</th>\n",
       "      <th>Investment_Type_OHE</th>\n",
       "      <th>Date_ddmmyyyy_OHE</th>\n",
       "      <th>Startup_Name_OHE</th>\n",
       "    </tr>\n",
       "  </thead>\n",
       "  <tbody>\n",
       "    <tr>\n",
       "      <th>0</th>\n",
       "      <td>0</td>\n",
       "      <td>5/9/2019</td>\n",
       "      <td>FPL Technologies</td>\n",
       "      <td>FinTech</td>\n",
       "      <td>Financial Services</td>\n",
       "      <td>Pune</td>\n",
       "      <td>Matrix Partners India, Sequoia India</td>\n",
       "      <td>Maiden Round</td>\n",
       "      <td>4500000.0</td>\n",
       "      <td>227</td>\n",
       "      <td>559</td>\n",
       "      <td>75</td>\n",
       "      <td>1240</td>\n",
       "      <td>15</td>\n",
       "      <td>873</td>\n",
       "      <td>611</td>\n",
       "    </tr>\n",
       "    <tr>\n",
       "      <th>1</th>\n",
       "      <td>1</td>\n",
       "      <td>4/9/2019</td>\n",
       "      <td>Cashflo</td>\n",
       "      <td>FinTech</td>\n",
       "      <td>Invoice discounting platform and SME lending m...</td>\n",
       "      <td>Mumbai</td>\n",
       "      <td>SAIF Partners</td>\n",
       "      <td>Series A</td>\n",
       "      <td>3300000.0</td>\n",
       "      <td>227</td>\n",
       "      <td>792</td>\n",
       "      <td>56</td>\n",
       "      <td>1714</td>\n",
       "      <td>35</td>\n",
       "      <td>835</td>\n",
       "      <td>320</td>\n",
       "    </tr>\n",
       "    <tr>\n",
       "      <th>2</th>\n",
       "      <td>2</td>\n",
       "      <td>4/9/2019</td>\n",
       "      <td>Digital F5</td>\n",
       "      <td>Advertising, Marketing</td>\n",
       "      <td>Digital marketing firm</td>\n",
       "      <td>Mumbai</td>\n",
       "      <td>TIW Private Equity</td>\n",
       "      <td>Private Equity Round</td>\n",
       "      <td>6000000.0</td>\n",
       "      <td>7</td>\n",
       "      <td>411</td>\n",
       "      <td>56</td>\n",
       "      <td>2027</td>\n",
       "      <td>21</td>\n",
       "      <td>835</td>\n",
       "      <td>497</td>\n",
       "    </tr>\n",
       "    <tr>\n",
       "      <th>3</th>\n",
       "      <td>3</td>\n",
       "      <td>4/9/2019</td>\n",
       "      <td>3rdFlix</td>\n",
       "      <td>SaaS</td>\n",
       "      <td>Education Technology</td>\n",
       "      <td>Hyderabad</td>\n",
       "      <td>Exfinity Venture Partners</td>\n",
       "      <td>pre-series A</td>\n",
       "      <td>5000000.0</td>\n",
       "      <td>661</td>\n",
       "      <td>470</td>\n",
       "      <td>35</td>\n",
       "      <td>602</td>\n",
       "      <td>49</td>\n",
       "      <td>835</td>\n",
       "      <td>12</td>\n",
       "    </tr>\n",
       "    <tr>\n",
       "      <th>4</th>\n",
       "      <td>4</td>\n",
       "      <td>4/9/2019</td>\n",
       "      <td>75F</td>\n",
       "      <td>IoT</td>\n",
       "      <td>Building automation system</td>\n",
       "      <td>Burnsville</td>\n",
       "      <td>Breakthrough Energy Ventures</td>\n",
       "      <td>Series A</td>\n",
       "      <td>18000000.0</td>\n",
       "      <td>354</td>\n",
       "      <td>183</td>\n",
       "      <td>16</td>\n",
       "      <td>398</td>\n",
       "      <td>35</td>\n",
       "      <td>835</td>\n",
       "      <td>17</td>\n",
       "    </tr>\n",
       "  </tbody>\n",
       "</table>\n",
       "</div>"
      ],
      "text/plain": [
       "   Sr No Date ddmmyyyy      Startup Name       Industry Vertical  \\\n",
       "0      0      5/9/2019  FPL Technologies                 FinTech   \n",
       "1      1      4/9/2019           Cashflo                 FinTech   \n",
       "2      2      4/9/2019        Digital F5  Advertising, Marketing   \n",
       "3      3      4/9/2019           3rdFlix                    SaaS   \n",
       "4      4      4/9/2019               75F                     IoT   \n",
       "\n",
       "                                         SubVertical City  Location  \\\n",
       "0                                 Financial Services           Pune   \n",
       "1  Invoice discounting platform and SME lending m...         Mumbai   \n",
       "2                             Digital marketing firm         Mumbai   \n",
       "3                               Education Technology      Hyderabad   \n",
       "4                         Building automation system     Burnsville   \n",
       "\n",
       "                         Investors Name       Investment Type  Amount in USD  \\\n",
       "0  Matrix Partners India, Sequoia India          Maiden Round      4500000.0   \n",
       "1                         SAIF Partners              Series A      3300000.0   \n",
       "2                    TIW Private Equity  Private Equity Round      6000000.0   \n",
       "3             Exfinity Venture Partners          pre-series A      5000000.0   \n",
       "4          Breakthrough Energy Ventures              Series A     18000000.0   \n",
       "\n",
       "   Industry_Vertical_OHE  SubVertical_OHE  City_Location_OHE  \\\n",
       "0                    227              559                 75   \n",
       "1                    227              792                 56   \n",
       "2                      7              411                 56   \n",
       "3                    661              470                 35   \n",
       "4                    354              183                 16   \n",
       "\n",
       "   Investors_Name_OHE  Investment_Type_OHE  Date_ddmmyyyy_OHE  \\\n",
       "0                1240                   15                873   \n",
       "1                1714                   35                835   \n",
       "2                2027                   21                835   \n",
       "3                 602                   49                835   \n",
       "4                 398                   35                835   \n",
       "\n",
       "   Startup_Name_OHE  \n",
       "0               611  \n",
       "1               320  \n",
       "2               497  \n",
       "3                12  \n",
       "4                17  "
      ]
     },
     "execution_count": 314,
     "metadata": {},
     "output_type": "execute_result"
    }
   ],
   "source": [
    "startup_lat.head()"
   ]
  },
  {
   "cell_type": "markdown",
   "metadata": {},
   "source": [
    "## Answering Questions of Interest:\n"
   ]
  },
  {
   "cell_type": "code",
   "execution_count": 315,
   "metadata": {},
   "outputs": [
    {
     "name": "stdout",
     "output_type": "stream",
     "text": [
      "Bangalore     1013\n",
      "Mumbai         565\n",
      "New Delhi      456\n",
      "Gurgaon        281\n",
      "Pune           103\n",
      "Hyderabad       99\n",
      "Chennai         96\n",
      "Noida           91\n",
      "Gurugram        50\n",
      "Ahmedabad       40\n",
      "Jaipur          30\n",
      "Kolkata         22\n",
      "Indore          13\n",
      "Chandigarh      11\n",
      "Vadodara        10\n",
      "Name: City  Location, dtype: int64\n"
     ]
    },
    {
     "data": {
      "text/plain": [
       "Text(0.5, 1.0, 'Top 20 cities with most number of startups that got funding')"
      ]
     },
     "execution_count": 315,
     "metadata": {},
     "output_type": "execute_result"
    },
    {
     "data": {
      "image/png": "[encoded data removed]",
      "text/plain": [
       "<Figure size 432x288 with 1 Axes>"
      ]
     },
     "metadata": {
      "needs_background": "light"
     },
     "output_type": "display_data"
    }
   ],
   "source": [
    "# Question 1\n",
    "# Do Cities have a huge influence on funding, list the top 20 cities with most number of startups\n",
    "\n",
    "# Provide a pandas dataframe with the number of startups for each city\n",
    "city_count = startup_lat[\"City  Location\"].value_counts()\n",
    "\n",
    "# Printing only the top twenty cities\n",
    "print(city_count.head(15))\n",
    "\n",
    "# Plotting a bar graph\n",
    "(city_count.head(15)/startup_lat.shape[0]).plot(kind=\"bar\");\n",
    "plt.title(\"Top 20 cities with most number of startups that got funding\")"
   ]
  },
  {
   "cell_type": "markdown",
   "metadata": {},
   "source": [
    "It is important to identify which cities got the most number of startups as they can provide all resources and an ecosystem of growth for new emerging startups. From our plot we can see Bangalore, Mumbai, New Delhi and Gurgaon are the top four cities with the most number of startups. Major factors attracting startups to these cities include a blend of hi-quality talent, cheap real-estate, a long chain of investors and local regulations supporting startups."
   ]
  },
  {
   "cell_type": "code",
   "execution_count": 316,
   "metadata": {},
   "outputs": [
    {
     "name": "stdout",
     "output_type": "stream",
     "text": [
      "Consumer Internet    1112\n",
      "Technology            476\n",
      "E-commerce            291\n",
      "Healthcare             69\n",
      "Finance                61\n",
      "Logistics              31\n",
      "Food & Beverage        28\n",
      "Education              22\n",
      "Ed-Tech                14\n",
      "FinTech                12\n",
      "Name: Industry Vertical, dtype: int64\n"
     ]
    },
    {
     "data": {
      "text/plain": [
       "Text(0.5, 1.0, ' Industries with more number of startups')"
      ]
     },
     "execution_count": 316,
     "metadata": {},
     "output_type": "execute_result"
    },
    {
     "data": {
      "image/png": "[encoded data removed]",
      "text/plain": [
       "<Figure size 432x288 with 1 Axes>"
      ]
     },
     "metadata": {
      "needs_background": "light"
     },
     "output_type": "display_data"
    }
   ],
   "source": [
    "# Question 2\n",
    "# Which Industries are more preferred by investors, list the top 15 industries with more startups\n",
    "industry_count = startup_lat['Industry Vertical'].value_counts()\n",
    "\n",
    "# Printing only the top 10 industries\n",
    "print(industry_count.head(10))\n",
    "\n",
    "# Plotting a bar graph\n",
    "(industry_count.head(10)/startup_lat.shape[0]).plot(kind = \"bar\");\n",
    "plt.title(\" Industries with more number of startups\")"
   ]
  },
  {
   "cell_type": "markdown",
   "metadata": {},
   "source": [
    "The above plot tells us the top industries that had the most number of startups during this period. As we can see Consumer Internet, Technology, E-commerce and Healthcare are the top four industries. The significant uptrend in startups from these industries is mainly beacuse of increasing digital transactions, digital literacy, growing use of vernacular content and low mobile data tariffs."
   ]
  },
  {
   "cell_type": "code",
   "execution_count": 317,
   "metadata": {},
   "outputs": [
    {
     "data": {
      "text/plain": [
       "Text(0.5, 1.0, 'Most prominent investors in India')"
      ]
     },
     "execution_count": 317,
     "metadata": {},
     "output_type": "execute_result"
    },
    {
     "data": {
      "image/png": "[encoded data removed]",
      "text/plain": [
       "<Figure size 432x288 with 1 Axes>"
      ]
     },
     "metadata": {
      "needs_background": "light"
     },
     "output_type": "display_data"
    }
   ],
   "source": [
    "# Question 3\n",
    "# Who are the most prominent investors in Indian Startup Environment, list the top 15 investors in India\n",
    "\n",
    "startup_lat.groupby(\"Investors Name\")[\"Amount in USD\"].sum().sort_values(ascending = False).head(15).plot(kind=\"bar\");\n",
    "plt.title(\"Most prominent investors in India\")"
   ]
  },
  {
   "cell_type": "markdown",
   "metadata": {},
   "source": [
    "This plot tells us the most prominent investors in the Indian Startup Environment. As India is currently undergoing an internet revolution with the number of web users increasing exponentially every year. Investors have been quick to tap the potential of these web-based businesses operating in a country with a population of more than 1.3 billion. From the graph we can see the top investors are Softbank, Westbridge Capital, Microsoft, Ebay and Tencent Holdings. "
   ]
  },
  {
   "cell_type": "code",
   "execution_count": 318,
   "metadata": {},
   "outputs": [
    {
     "data": {
      "image/png": "[encoded data removed]",
      "text/plain": [
       "<Figure size 432x288 with 1 Axes>"
      ]
     },
     "metadata": {
      "needs_background": "light"
     },
     "output_type": "display_data"
    }
   ],
   "source": [
    "# Question 4\n",
    "# Which Industries got the most fudning, list the top 15 industries that got the most funding\n",
    "startup_lat.groupby(\"Industry Vertical\")['Amount in USD'].sum().sort_values(ascending=False).head(15).plot(kind=\"bar\");\n",
    "plt.title(\"Industries with highest funding\");"
   ]
  },
  {
   "cell_type": "markdown",
   "metadata": {},
   "source": [
    "It is helpful to know which industries got the highest funding during this period. As we can see Consumer Internet, E-commerce, Technology and Transportation are the top four industries with the greatest funding. The main reasons for increase in funding for these industries is building supply chain, expanding into new segments, acquisition/consolidation and bringing innovative product offerings. "
   ]
  },
  {
   "cell_type": "code",
   "execution_count": 319,
   "metadata": {},
   "outputs": [
    {
     "data": {
      "text/html": [
       "<div>\n",
       "<style scoped>\n",
       "    .dataframe tbody tr th:only-of-type {\n",
       "        vertical-align: middle;\n",
       "    }\n",
       "\n",
       "    .dataframe tbody tr th {\n",
       "        vertical-align: top;\n",
       "    }\n",
       "\n",
       "    .dataframe thead th {\n",
       "        text-align: right;\n",
       "    }\n",
       "</style>\n",
       "<table border=\"1\" class=\"dataframe\">\n",
       "  <thead>\n",
       "    <tr style=\"text-align: right;\">\n",
       "      <th></th>\n",
       "      <th>Industry_Vertical_OHE</th>\n",
       "      <th>SubVertical_OHE</th>\n",
       "      <th>City_Location_OHE</th>\n",
       "      <th>Investors_Name_OHE</th>\n",
       "      <th>Investment_Type_OHE</th>\n",
       "      <th>Amount in USD</th>\n",
       "    </tr>\n",
       "  </thead>\n",
       "  <tbody>\n",
       "    <tr>\n",
       "      <th>Industry_Vertical_OHE</th>\n",
       "      <td>1.000000</td>\n",
       "      <td>-0.086173</td>\n",
       "      <td>0.058271</td>\n",
       "      <td>-0.004866</td>\n",
       "      <td>-0.010923</td>\n",
       "      <td>-0.004216</td>\n",
       "    </tr>\n",
       "    <tr>\n",
       "      <th>SubVertical_OHE</th>\n",
       "      <td>-0.086173</td>\n",
       "      <td>1.000000</td>\n",
       "      <td>-0.035024</td>\n",
       "      <td>0.022519</td>\n",
       "      <td>-0.005879</td>\n",
       "      <td>-0.033977</td>\n",
       "    </tr>\n",
       "    <tr>\n",
       "      <th>City_Location_OHE</th>\n",
       "      <td>0.058271</td>\n",
       "      <td>-0.035024</td>\n",
       "      <td>1.000000</td>\n",
       "      <td>0.018475</td>\n",
       "      <td>0.030056</td>\n",
       "      <td>-0.039666</td>\n",
       "    </tr>\n",
       "    <tr>\n",
       "      <th>Investors_Name_OHE</th>\n",
       "      <td>-0.004866</td>\n",
       "      <td>0.022519</td>\n",
       "      <td>0.018475</td>\n",
       "      <td>1.000000</td>\n",
       "      <td>0.045387</td>\n",
       "      <td>0.031481</td>\n",
       "    </tr>\n",
       "    <tr>\n",
       "      <th>Investment_Type_OHE</th>\n",
       "      <td>-0.010923</td>\n",
       "      <td>-0.005879</td>\n",
       "      <td>0.030056</td>\n",
       "      <td>0.045387</td>\n",
       "      <td>1.000000</td>\n",
       "      <td>-0.012335</td>\n",
       "    </tr>\n",
       "    <tr>\n",
       "      <th>Amount in USD</th>\n",
       "      <td>-0.004216</td>\n",
       "      <td>-0.033977</td>\n",
       "      <td>-0.039666</td>\n",
       "      <td>0.031481</td>\n",
       "      <td>-0.012335</td>\n",
       "      <td>1.000000</td>\n",
       "    </tr>\n",
       "  </tbody>\n",
       "</table>\n",
       "</div>"
      ],
      "text/plain": [
       "                       Industry_Vertical_OHE  SubVertical_OHE  \\\n",
       "Industry_Vertical_OHE               1.000000        -0.086173   \n",
       "SubVertical_OHE                    -0.086173         1.000000   \n",
       "City_Location_OHE                   0.058271        -0.035024   \n",
       "Investors_Name_OHE                 -0.004866         0.022519   \n",
       "Investment_Type_OHE                -0.010923        -0.005879   \n",
       "Amount in USD                      -0.004216        -0.033977   \n",
       "\n",
       "                       City_Location_OHE  Investors_Name_OHE  \\\n",
       "Industry_Vertical_OHE           0.058271           -0.004866   \n",
       "SubVertical_OHE                -0.035024            0.022519   \n",
       "City_Location_OHE               1.000000            0.018475   \n",
       "Investors_Name_OHE              0.018475            1.000000   \n",
       "Investment_Type_OHE             0.030056            0.045387   \n",
       "Amount in USD                  -0.039666            0.031481   \n",
       "\n",
       "                       Investment_Type_OHE  Amount in USD  \n",
       "Industry_Vertical_OHE            -0.010923      -0.004216  \n",
       "SubVertical_OHE                  -0.005879      -0.033977  \n",
       "City_Location_OHE                 0.030056      -0.039666  \n",
       "Investors_Name_OHE                0.045387       0.031481  \n",
       "Investment_Type_OHE               1.000000      -0.012335  \n",
       "Amount in USD                    -0.012335       1.000000  "
      ]
     },
     "execution_count": 319,
     "metadata": {},
     "output_type": "execute_result"
    }
   ],
   "source": [
    "# Question 5\n",
    "# Correlation between Date ddmmyyyy, Startup Name, Industry Vertical, SubVertical, City  Location, Investors Name, Investment Type, Amount in USD     \n",
    "\n",
    "correlation_DF = startup_lat[['Industry_Vertical_OHE', 'SubVertical_OHE', 'City_Location_OHE', 'Investors_Name_OHE', 'Investment_Type_OHE','Amount in USD']]\n",
    "\n",
    "correlation_DF.corr()"
   ]
  },
  {
   "cell_type": "markdown",
   "metadata": {},
   "source": []
  },
  {
   "cell_type": "code",
   "execution_count": 320,
   "metadata": {},
   "outputs": [
    {
     "data": {
      "text/plain": [
       "<matplotlib.axes._subplots.AxesSubplot at 0x193b2195f28>"
      ]
     },
     "execution_count": 320,
     "metadata": {},
     "output_type": "execute_result"
    },
    {
     "data": {
      "image/png": "[encoded data removed]",
      "text/plain": [
       "<Figure size 1152x864 with 2 Axes>"
      ]
     },
     "metadata": {
      "needs_background": "light"
     },
     "output_type": "display_data"
    }
   ],
   "source": [
    "colormap = plt.cm.inferno\n",
    "plt.figure(figsize = (16,12))\n",
    "plt.title(\"Correlation between Industry Vertical, SubVertical, City  Location, Investors Name, Investment Type, Amount in USD\", y=1.05, size = 15)\n",
    "sns.heatmap(correlation_DF.corr(),linewidths=0.1,vmax=1.0, \n",
    "            square=True, cmap=colormap, linecolor='white', annot=True)"
   ]
  },
  {
   "cell_type": "markdown",
   "metadata": {},
   "source": [
    "From the correlation heatmap above, we can conclude that City Location is most positively related with Industry Vertical and most negatively related to Amount in USD, Investors Name is most positively related to Investment Type as all Investors usually have a fixed investment type. Amount in USD is most positively related to Investors Name which is quite reasonable. Industry Vertical is also most negatively related to SubVertical as both are distinct categories."
   ]
  },
  {
   "cell_type": "code",
   "execution_count": null,
   "metadata": {},
   "outputs": [],
   "source": []
  }
 ],
 "metadata": {
  "kernelspec": {
   "display_name": "Python 3",
   "language": "python",
   "name": "python3"
  },
  "language_info": {
   "codemirror_mode": {
    "name": "ipython",
    "version": 3
   },
   "file_extension": ".py",
   "mimetype": "text/x-python",
   "name": "python",
   "nbconvert_exporter": "python",
   "pygments_lexer": "ipython3",
   "version": "3.7.3"
  }
 },
 "nbformat": 4,
 "nbformat_minor": 2
}
